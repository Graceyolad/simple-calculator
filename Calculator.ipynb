{
 "cells": [
  {
   "cell_type": "code",
   "execution_count": 1,
   "id": "bb5b1cf9",
   "metadata": {},
   "outputs": [
    {
     "name": "stdout",
     "output_type": "stream",
     "text": [
      "1 Addition\n",
      "2 Subtraction\n",
      "3 Multiplication\n",
      "4 Division\n",
      "5 Floor division\n",
      "6 Modulo\n",
      "Enter x to Exit\n",
      "Enter your choice: 2\n",
      "Enter number 1 : 24\n",
      "Enter number 2 : 20\n",
      "24.0 - 20.0 = 4.0\n",
      "1 Addition\n",
      "2 Subtraction\n",
      "3 Multiplication\n",
      "4 Division\n",
      "5 Floor division\n",
      "6 Modulo\n",
      "Enter x to Exit\n",
      "Enter your choice: x\n"
     ]
    }
   ],
   #putting everything in a while loop to avaoid re-running the codes everytime.
   "source": [
    "while True:\n",
    "    print('1 Addition')\n",
    "    print('2 Subtraction')\n",
    "    print('3 Multiplication')\n",
    "    print('4 Division')\n",
    "    print('5 Floor division')\n",
    "    print('6 Modulo')\n",
    "    print('Enter x to Exit')\n",
    "\n",
    "    choice = input('Enter your choice: ')\n",
    "    \n",
    "    if choice == 'x':\n",
    "        break\n",
    "\n",
    "    num1 = float(input('Enter number 1 : '))\n",
    "    num2 = float(input('Enter number 2 : '))\n",
    "\n",
    "    if choice == '1':\n",
    "        print(num1, '+', num2, '=', (num1+num2))\n",
    "    elif choice == '2':\n",
    "        print(num1, '-', num2, '=', (num1-num2))\n",
    "    elif choice == '3':\n",
    "        print(num1, '*', num2, '=', (num1*num2))\n",
    "    elif choice == '4':\n",
    "        if num2 == 0.0:\n",
    "            print('Divide by 0 Error')\n",
    "        else:\n",
    "            print(num1, '/', num2, '=', (num1/num2))\n",
    "    elif choice == '5':\n",
    "        if num2 == 0.0:\n",
    "            print('Divide by 0 Error')\n",
    "        else:\n",
    "            print(num1, '//', num2, '=', (num1//num2))\n",
    "    elif choice == '6':\n",
    "        if num2 == 0.0:\n",
    "            print('Divide by 0 Error')\n",
    "        else:\n",
    "            print(num1, '%', num2, '=', (num1%num2))\n",
    "    else:\n",
    "        print('invalid choice')\n",
    "\n"
   ]
  },
  {
   "cell_type": "code",
   "execution_count": null,
   "id": "16cfb566",
   "metadata": {},
   "outputs": [],
   "source": []
  }
 ],
 "metadata": {
  "kernelspec": {
   "display_name": "Python 3 (ipykernel)",
   "language": "python",
   "name": "python3"
  },
  "language_info": {
   "codemirror_mode": {
    "name": "ipython",
    "version": 3
   },
   "file_extension": ".py",
   "mimetype": "text/x-python",
   "name": "python",
   "nbconvert_exporter": "python",
   "pygments_lexer": "ipython3",
   "version": "3.9.7"
  }
 },
 "nbformat": 4,
 "nbformat_minor": 5
}
